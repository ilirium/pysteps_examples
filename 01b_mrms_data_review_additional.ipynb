{
 "cells": [
  {
   "cell_type": "markdown",
   "metadata": {},
   "source": [
    "# Init"
   ]
  },
  {
   "cell_type": "code",
   "execution_count": 1,
   "metadata": {
    "ExecuteTime": {
     "end_time": "2020-05-15T11:38:43.761936Z",
     "start_time": "2020-05-15T11:38:43.283238Z"
    }
   },
   "outputs": [],
   "source": [
    "%matplotlib inline\n",
    "%reload_ext autoreload\n",
    "%autoreload 2\n",
    "\n",
    "%config InlineBackend.figure_format = 'retina' # High-resolution plot outputs for Retina laptops"
   ]
  },
  {
   "cell_type": "code",
   "execution_count": 2,
   "metadata": {
    "ExecuteTime": {
     "end_time": "2020-05-15T11:38:45.235374Z",
     "start_time": "2020-05-15T11:38:43.764672Z"
    }
   },
   "outputs": [
    {
     "name": "stdout",
     "output_type": "stream",
     "text": [
      "Pysteps configuration file found at: /Users/ilirium/.pysteps/pystepsrc\n",
      "\n"
     ]
    }
   ],
   "source": [
    "# Batteries\n",
    "import os\n",
    "from datetime import datetime\n",
    "from pathlib import Path\n",
    "\n",
    "\n",
    "# Extrenals\n",
    "import matplotlib.pyplot as plt\n",
    "import numpy as np\n",
    "\n",
    "\n",
    "# PySTEPS\n",
    "from pysteps import io, motion, nowcasts\n",
    "from pysteps.io import import_fmi_pgm\n",
    "from pysteps.postprocessing import ensemblestats\n",
    "from pysteps.utils import conversion, transformation"
   ]
  },
  {
   "cell_type": "markdown",
   "metadata": {},
   "source": [
    "# Path and files"
   ]
  },
  {
   "cell_type": "code",
   "execution_count": 3,
   "metadata": {
    "ExecuteTime": {
     "end_time": "2020-05-15T11:38:45.287415Z",
     "start_time": "2020-05-15T11:38:45.240696Z"
    }
   },
   "outputs": [],
   "source": [
    "_path = Path('../pysteps-data')\n",
    "path = _path / 'mrms/2019/06/10/'"
   ]
  },
  {
   "cell_type": "code",
   "execution_count": 4,
   "metadata": {
    "ExecuteTime": {
     "end_time": "2020-05-15T11:38:45.476991Z",
     "start_time": "2020-05-15T11:38:45.291204Z"
    }
   },
   "outputs": [
    {
     "name": "stdout",
     "output_type": "stream",
     "text": [
      "total 69488\r\n",
      "-rw-r--r--  1 staff   1.0M May  7 11:56 PrecipRate_00.00_20190610-000000.grib2\r\n",
      "-rw-r--r--  1 staff   1.0M May  7 11:56 PrecipRate_00.00_20190610-000200.grib2\r\n",
      "-rw-r--r--  1 staff   1.0M May  7 11:56 PrecipRate_00.00_20190610-000400.grib2\r\n",
      "-rw-r--r--  1 staff   999K May  7 11:56 PrecipRate_00.00_20190610-000600.grib2\r\n",
      "-rw-r--r--  1 staff   996K May  7 11:56 PrecipRate_00.00_20190610-000800.grib2\r\n",
      "-rw-r--r--  1 staff   994K May  7 11:56 PrecipRate_00.00_20190610-001000.grib2\r\n",
      "-rw-r--r--  1 staff   990K May  7 11:56 PrecipRate_00.00_20190610-001200.grib2\r\n",
      "-rw-r--r--  1 staff   992K May  7 11:56 PrecipRate_00.00_20190610-001400.grib2\r\n",
      "-rw-r--r--  1 staff   991K May  7 11:56 PrecipRate_00.00_20190610-001600.grib2\r\n",
      "-rw-r--r--  1 staff   985K May  7 11:56 PrecipRate_00.00_20190610-001800.grib2\r\n",
      "-rw-r--r--  1 staff   982K May  7 11:56 PrecipRate_00.00_20190610-002000.grib2\r\n",
      "-rw-r--r--  1 staff   982K May  7 11:56 PrecipRate_00.00_20190610-002200.grib2\r\n",
      "-rw-r--r--  1 staff   979K May  7 11:56 PrecipRate_00.00_20190610-002400.grib2\r\n",
      "-rw-r--r--  1 staff   969K May  7 11:56 PrecipRate_00.00_20190610-002600.grib2\r\n",
      "-rw-r--r--  1 staff   965K May  7 11:56 PrecipRate_00.00_20190610-002800.grib2\r\n",
      "-rw-r--r--  1 staff   965K May  7 11:56 PrecipRate_00.00_20190610-003000.grib2\r\n",
      "-rw-r--r--  1 staff   966K May  7 11:56 PrecipRate_00.00_20190610-003200.grib2\r\n",
      "-rw-r--r--  1 staff   965K May  7 11:56 PrecipRate_00.00_20190610-003400.grib2\r\n",
      "-rw-r--r--  1 staff   955K May  7 11:56 PrecipRate_00.00_20190610-003600.grib2\r\n",
      "-rw-r--r--  1 staff   957K May  7 11:56 PrecipRate_00.00_20190610-003800.grib2\r\n",
      "-rw-r--r--  1 staff   954K May  7 11:56 PrecipRate_00.00_20190610-004000.grib2\r\n",
      "-rw-r--r--  1 staff   951K May  7 11:56 PrecipRate_00.00_20190610-004200.grib2\r\n",
      "-rw-r--r--  1 staff   951K May  7 11:56 PrecipRate_00.00_20190610-004400.grib2\r\n",
      "-rw-r--r--  1 staff   942K May  7 11:56 PrecipRate_00.00_20190610-004600.grib2\r\n",
      "-rw-r--r--  1 staff   945K May  7 11:56 PrecipRate_00.00_20190610-004800.grib2\r\n",
      "-rw-r--r--  1 staff   942K May  7 11:56 PrecipRate_00.00_20190610-005000.grib2\r\n",
      "-rw-r--r--  1 staff   941K May  7 11:56 PrecipRate_00.00_20190610-005200.grib2\r\n",
      "-rw-r--r--  1 staff   941K May  7 11:56 PrecipRate_00.00_20190610-005400.grib2\r\n",
      "-rw-r--r--  1 staff   931K May  7 11:56 PrecipRate_00.00_20190610-005600.grib2\r\n",
      "-rw-r--r--  1 staff   927K May  7 11:56 PrecipRate_00.00_20190610-005800.grib2\r\n",
      "-rw-r--r--  1 staff   933K May  7 11:56 PrecipRate_00.00_20190610-010000.grib2\r\n",
      "-rw-r--r--  1 staff   936K May  7 11:56 PrecipRate_00.00_20190610-010200.grib2\r\n",
      "-rw-r--r--  1 staff   934K May  7 11:56 PrecipRate_00.00_20190610-010400.grib2\r\n",
      "-rw-r--r--  1 staff   933K May  7 11:56 PrecipRate_00.00_20190610-010600.grib2\r\n",
      "-rw-r--r--  1 staff   933K May  7 11:56 PrecipRate_00.00_20190610-010800.grib2\r\n",
      "-rw-r--r--  1 staff   930K May  7 11:56 PrecipRate_00.00_20190610-011000.grib2\r\n"
     ]
    }
   ],
   "source": [
    "!ls -lhg {path}"
   ]
  },
  {
   "cell_type": "code",
   "execution_count": 5,
   "metadata": {
    "ExecuteTime": {
     "end_time": "2020-05-15T11:38:45.632143Z",
     "start_time": "2020-05-15T11:38:45.479557Z"
    }
   },
   "outputs": [
    {
     "name": "stdout",
     "output_type": "stream",
     "text": [
      "      36\r\n"
     ]
    }
   ],
   "source": [
    "!ls {path} | wc -l"
   ]
  },
  {
   "cell_type": "markdown",
   "metadata": {},
   "source": [
    "# Functions"
   ]
  },
  {
   "cell_type": "markdown",
   "metadata": {},
   "source": [
    "## `show_array_structure`"
   ]
  },
  {
   "cell_type": "code",
   "execution_count": 6,
   "metadata": {
    "ExecuteTime": {
     "end_time": "2020-05-15T11:38:45.678671Z",
     "start_time": "2020-05-15T11:38:45.634567Z"
    }
   },
   "outputs": [],
   "source": [
    "def show_array_structure(array):\n",
    "    print(f'shape = {array.shape}')\n",
    "    \n",
    "    size = array.shape[0] * array.shape[1] * array.shape[2]\n",
    "    print(f'shape[0] * shape[1] * shape[2] = {size}')\n",
    "    \n",
    "    nan_amount = array[np.isnan(array)].shape[0]\n",
    "    nan_percent = round(nan_amount / size, 3)\n",
    "    print(f'NAN amount = {nan_amount}, part = {nan_percent}')\n",
    "    \n",
    "    finite_amount = array[~np.isnan(array)].shape[0]\n",
    "    finite_percent = round(finite_amount / size, 3)\n",
    "    print(f'FINITE amount = {finite_amount}, part = {finite_percent}')\n",
    "    print()\n",
    "    print(f'unique = {np.sort(np.unique(array[np.isfinite(array)]))}')"
   ]
  },
  {
   "cell_type": "markdown",
   "metadata": {},
   "source": [
    "# Read"
   ]
  },
  {
   "cell_type": "code",
   "execution_count": 7,
   "metadata": {
    "ExecuteTime": {
     "end_time": "2020-05-15T11:38:45.719462Z",
     "start_time": "2020-05-15T11:38:45.680658Z"
    }
   },
   "outputs": [],
   "source": [
    "date = datetime.strptime(\"20190610\", \"%Y%m%d\")\n",
    "root_path = \"../pysteps-data/mrms/2019/06/10/\"\n",
    "fn_pattern = 'PrecipRate_00.00_%Y%m%d-%H%M00'\n",
    "fn_ext = \"grib2\""
   ]
  },
  {
   "cell_type": "code",
   "execution_count": 8,
   "metadata": {
    "ExecuteTime": {
     "end_time": "2020-05-15T11:38:45.763932Z",
     "start_time": "2020-05-15T11:38:45.725521Z"
    }
   },
   "outputs": [],
   "source": [
    "fns = io.archive.find_by_date(date, root_path, \"\", fn_pattern, fn_ext, 2, num_next_files=35)"
   ]
  },
  {
   "cell_type": "code",
   "execution_count": 9,
   "metadata": {
    "ExecuteTime": {
     "end_time": "2020-05-15T11:39:40.105146Z",
     "start_time": "2020-05-15T11:38:45.766444Z"
    }
   },
   "outputs": [],
   "source": [
    "Z, _, metadata = io.read_timeseries(fns, io.import_mrms_grib)"
   ]
  },
  {
   "cell_type": "code",
   "execution_count": 10,
   "metadata": {
    "ExecuteTime": {
     "end_time": "2020-05-15T11:39:40.932031Z",
     "start_time": "2020-05-15T11:39:40.107419Z"
    }
   },
   "outputs": [],
   "source": [
    "R = conversion.to_rainrate(Z, metadata, 223.0, 1.53)[0]\n",
    "R = transformation.dB_transform(R, threshold=0.1, zerovalue=-15.0)[0]"
   ]
  },
  {
   "cell_type": "code",
   "execution_count": 11,
   "metadata": {
    "ExecuteTime": {
     "end_time": "2020-05-15T11:39:40.979322Z",
     "start_time": "2020-05-15T11:39:40.934407Z"
    }
   },
   "outputs": [
    {
     "data": {
      "text/plain": [
       "{'xpixelsize': 0.04,\n",
       " 'ypixelsize': 0.04,\n",
       " 'unit': 'mm/h',\n",
       " 'transform': None,\n",
       " 'zerovalue': 0,\n",
       " 'projection': {'proj': 'latlon', 'ellps': 'IAU76'},\n",
       " 'yorigin': 'upper',\n",
       " 'threshold': 0.0125,\n",
       " 'x1': -129.98000000042865,\n",
       " 'x2': -60.0200019995713,\n",
       " 'y1': 20.020000999571305,\n",
       " 'y2': 54.98000000042869,\n",
       " 'timestamps': array([datetime.datetime(2019, 6, 10, 0, 0),\n",
       "        datetime.datetime(2019, 6, 10, 0, 2),\n",
       "        datetime.datetime(2019, 6, 10, 0, 4),\n",
       "        datetime.datetime(2019, 6, 10, 0, 6),\n",
       "        datetime.datetime(2019, 6, 10, 0, 8),\n",
       "        datetime.datetime(2019, 6, 10, 0, 10),\n",
       "        datetime.datetime(2019, 6, 10, 0, 12),\n",
       "        datetime.datetime(2019, 6, 10, 0, 14),\n",
       "        datetime.datetime(2019, 6, 10, 0, 16),\n",
       "        datetime.datetime(2019, 6, 10, 0, 18),\n",
       "        datetime.datetime(2019, 6, 10, 0, 20),\n",
       "        datetime.datetime(2019, 6, 10, 0, 22),\n",
       "        datetime.datetime(2019, 6, 10, 0, 24),\n",
       "        datetime.datetime(2019, 6, 10, 0, 26),\n",
       "        datetime.datetime(2019, 6, 10, 0, 28),\n",
       "        datetime.datetime(2019, 6, 10, 0, 30),\n",
       "        datetime.datetime(2019, 6, 10, 0, 32),\n",
       "        datetime.datetime(2019, 6, 10, 0, 34),\n",
       "        datetime.datetime(2019, 6, 10, 0, 36),\n",
       "        datetime.datetime(2019, 6, 10, 0, 38),\n",
       "        datetime.datetime(2019, 6, 10, 0, 40),\n",
       "        datetime.datetime(2019, 6, 10, 0, 42),\n",
       "        datetime.datetime(2019, 6, 10, 0, 44),\n",
       "        datetime.datetime(2019, 6, 10, 0, 46),\n",
       "        datetime.datetime(2019, 6, 10, 0, 48),\n",
       "        datetime.datetime(2019, 6, 10, 0, 50),\n",
       "        datetime.datetime(2019, 6, 10, 0, 52),\n",
       "        datetime.datetime(2019, 6, 10, 0, 54),\n",
       "        datetime.datetime(2019, 6, 10, 0, 56),\n",
       "        datetime.datetime(2019, 6, 10, 0, 58),\n",
       "        datetime.datetime(2019, 6, 10, 1, 0),\n",
       "        datetime.datetime(2019, 6, 10, 1, 2),\n",
       "        datetime.datetime(2019, 6, 10, 1, 4),\n",
       "        datetime.datetime(2019, 6, 10, 1, 6),\n",
       "        datetime.datetime(2019, 6, 10, 1, 8),\n",
       "        datetime.datetime(2019, 6, 10, 1, 10)], dtype=object)}"
      ]
     },
     "execution_count": 11,
     "metadata": {},
     "output_type": "execute_result"
    }
   ],
   "source": [
    "metadata"
   ]
  },
  {
   "cell_type": "code",
   "execution_count": 12,
   "metadata": {
    "ExecuteTime": {
     "end_time": "2020-05-15T11:39:42.739762Z",
     "start_time": "2020-05-15T11:39:40.981978Z"
    }
   },
   "outputs": [
    {
     "name": "stdout",
     "output_type": "stream",
     "text": [
      "shape = (36, 875, 1750)\n",
      "shape[0] * shape[1] * shape[2] = 55125000\n",
      "NAN amount = 19810981, part = 0.359\n",
      "FINITE amount = 35314019, part = 0.641\n",
      "\n",
      "unique = [0.0000000e+00 6.2500001e-03 1.2500000e-02 ... 1.3475000e+02 1.3677499e+02\n",
      " 1.4481876e+02]\n"
     ]
    }
   ],
   "source": [
    "show_array_structure(Z)"
   ]
  },
  {
   "cell_type": "code",
   "execution_count": 13,
   "metadata": {
    "ExecuteTime": {
     "end_time": "2020-05-15T11:39:44.362752Z",
     "start_time": "2020-05-15T11:39:42.741901Z"
    }
   },
   "outputs": [
    {
     "name": "stdout",
     "output_type": "stream",
     "text": [
      "shape = (36, 875, 1750)\n",
      "shape[0] * shape[1] * shape[2] = 55125000\n",
      "NAN amount = 19810981, part = 0.359\n",
      "FINITE amount = 35314019, part = 0.641\n",
      "\n",
      "unique = [-15.       -10.        -9.736711 ...  21.295288  21.360065  21.608248]\n"
     ]
    }
   ],
   "source": [
    "show_array_structure(R)"
   ]
  }
 ],
 "metadata": {
  "kernelspec": {
   "display_name": "Python 3",
   "language": "python",
   "name": "python3"
  },
  "language_info": {
   "codemirror_mode": {
    "name": "ipython",
    "version": 3
   },
   "file_extension": ".py",
   "mimetype": "text/x-python",
   "name": "python",
   "nbconvert_exporter": "python",
   "pygments_lexer": "ipython3",
   "version": "3.7.6"
  },
  "toc": {
   "base_numbering": 1,
   "nav_menu": {},
   "number_sections": true,
   "sideBar": true,
   "skip_h1_title": false,
   "title_cell": "Table of Contents",
   "title_sidebar": "Contents",
   "toc_cell": false,
   "toc_position": {},
   "toc_section_display": true,
   "toc_window_display": true
  }
 },
 "nbformat": 4,
 "nbformat_minor": 4
}
